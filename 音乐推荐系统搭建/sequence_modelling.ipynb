{
 "cells": [
  {
   "cell_type": "markdown",
   "metadata": {},
   "source": [
    "## song2vec"
   ]
  },
  {
   "cell_type": "code",
   "execution_count": null,
   "metadata": {},
   "outputs": [],
   "source": [
    "#coding: utf-8\n",
    "import multiprocessing\n",
    "import gensim\n",
    "import sys\n",
    "from random import shuffle\n",
    "\n",
    "#解析出一个歌单中歌曲list，返回的是经过多次shuffle后的歌曲list，每个list元素为一个歌曲list\n",
    "def parse_playlist_get_sequence(in_line,playlist_sequence):\n",
    "    song_sequence = []\n",
    "    contents = in_line.strip().split(\"\\t\")\n",
    "    for song in contents[1:]:\n",
    "        try:\n",
    "            song_id,song_name,artist,popularity = song.split(\":::\")\n",
    "            song_sequence.append(song_id)\n",
    "        except:\n",
    "            print(\"song format error\")\n",
    "            print(song+\"\\n\")\n",
    "    for i in range(len(song_sequence)):\n",
    "        shuffle(song_sequence)\n",
    "        playlist_sequence.append(song_sequence)\n",
    "        \n",
    "#训练song2vec\n",
    "def train_song2vec(in_file,out_file):\n",
    "    playlist_sequence = []\n",
    "    for line in open(in_file):\n",
    "        parse_playlist_get_sequence(line,playlist_sequence)\n",
    "    cores = multiprocessing.cpu_count() #统计cpu的个数\n",
    "    print(\"using all\"+str(cores)+\"cores\")\n",
    "    print(\"training word2ve model...\")\n",
    "    model = gensim.models.Word2Vec(sentences=playlist_sequence,size=150,window=7,min_count=3,workers=cores) #只有当word出现min_count，才求其word2vec\n",
    "    print(\"saving model...\")\n",
    "    model.save(out_file)\n",
    "        \n",
    "            "
   ]
  },
  {
   "cell_type": "code",
   "execution_count": null,
   "metadata": {
    "collapsed": true
   },
   "outputs": [],
   "source": [
    "song_sequence_file = \"./popularity.playlist\"\n",
    "model_file = \"./song2vec.model\"\n",
    "train_song2vec(song_sequence_file,model_file)"
   ]
  },
  {
   "cell_type": "code",
   "execution_count": null,
   "metadata": {},
   "outputs": [],
   "source": [
    "import cPickle as pickle\n",
    "song_dic = pickle.load(open(\"popularity_song.pkl\",\"rb\")) #????\n",
    "model_str = \"./song2vec.model\"\n",
    "model = gensim.models.Word2Vec.load(model_str) #下载song2vec model"
   ]
  },
  {
   "cell_type": "code",
   "execution_count": null,
   "metadata": {},
   "outputs": [],
   "source": [
    "song_id_list = song_dic.keys()[1000:1500:50] #song_dic={key:id,value:name}\n",
    "for song_id in song_id_list:\n",
    "    result_song_list = model.most.similarity(song_id)\n",
    "    print(song_id,song_dic[song_id])\n",
    "    print(\"\\n相似歌曲 和 相似度 分别为\")\n",
    "    for song in result_song_list:\n",
    "        print(\"\\t\",song_dic[song[0],song[1]]) #相似歌曲，相似度\n",
    "    print(\"\\n\")\n",
    "    "
   ]
  }
 ],
 "metadata": {
  "kernelspec": {
   "display_name": "Python 3",
   "language": "python",
   "name": "python3"
  },
  "language_info": {
   "codemirror_mode": {
    "name": "ipython",
    "version": 3
   },
   "file_extension": ".py",
   "mimetype": "text/x-python",
   "name": "python",
   "nbconvert_exporter": "python",
   "pygments_lexer": "ipython3",
   "version": "3.6.5"
  }
 },
 "nbformat": 4,
 "nbformat_minor": 2
}
