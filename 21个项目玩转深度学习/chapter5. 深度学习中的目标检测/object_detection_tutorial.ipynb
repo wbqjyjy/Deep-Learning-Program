{
 "cells": [
  {
   "cell_type": "code",
   "execution_count": null,
   "metadata": {},
   "outputs": [],
   "source": [
    "import numpy as np\n",
    "import os\n",
    "import six.moves.urllib as urllib\n",
    "import sys\n",
    "import tarfile\n",
    "import tensorflow as tf\n",
    "import zipfile\n",
    "\n",
    "from collections import defaultdict\n",
    "from io import StringIO\n",
    "from matplotlib import pyplot as plt\n",
    "from PII. import Image"
   ]
  },
  {
   "cell_type": "code",
   "execution_count": null,
   "metadata": {},
   "outputs": [],
   "source": [
    "%matplotlib inline #这条命令使matlibplot绘图时，直接在Notebook中显示\n",
    "sys.path.append('..') #将上层目录导入进来，这样才可以执行下面的两条语句\n",
    "\n",
    "from utils import label_map_util\n",
    "from utils import visualization_utils as vis_util"
   ]
  },
  {
   "cell_type": "markdown",
   "metadata": {},
   "source": [
    "## 导入包后，设置需要使用的模型："
   ]
  },
  {
   "cell_type": "code",
   "execution_count": null,
   "metadata": {},
   "outputs": [],
   "source": [
    "MODEL_NAME ='ssd_mobilenet_v1_coco_11_06_2017'\n",
    "MODEL_FILE = MODEL_NAME + '.tar.gz'\n",
    "DOWNLOAD_BASE = 'http://download.tensorflow.org/models/object_detection/'\n",
    "\n",
    "PATH_TO_CKPT = MODEL_NAME + '/frozen_inference_graph.pb' #'/frozen_inference_graph.pb'为后面需要导入的文件，里面包含了网络的结构和数据\n",
    "\n",
    "PATH_TO_LABELS = os.path.join('data','mscoco_label_map.pbtxt') #'mscoco_label_map.pbtxt'文件保存了index到类别名的映射，该文件存在object_detection/data文件夹下面\n",
    "\n",
    "NUM_CLASSES = 90  #os.path.join()连接两个文件名地址，比如：os.path.join(\"D:\\\",\"test.txt\")，结果为:\"D:\\test.txt\""
   ]
  },
  {
   "cell_type": "markdown",
   "metadata": {},
   "source": [
    "# 下载模型"
   ]
  },
  {
   "cell_type": "code",
   "execution_count": null,
   "metadata": {},
   "outputs": [],
   "source": [
    "opener = urllib.request.URLopener() #打开链接\n",
    "opener.retrieve(DOWNLOAD_BASE + MODEL_FILE,MODEL_FILE) #将下载文件保存到指定文件\n",
    "tar_file = tarfile.open(MODEL_FILE) #打开压缩文件\n",
    "for file in tar_file.getmembers():\n",
    "    file_name = os.path.basename(file.name) #os.path.basename() 返回path最后的文件名\n",
    "    if 'frozen_inference_graph.pb' in file_name:\n",
    "        tar_file.extract(file,os.getcwd()) #os.getcwd()返回当前目录；\n",
    "        #tar_file.exract(file.directory) #将file取出放入当前目录"
   ]
  },
  {
   "cell_type": "markdown",
   "metadata": {},
   "source": [
    "## 将模型导入计算图中"
   ]
  },
  {
   "cell_type": "code",
   "execution_count": null,
   "metadata": {},
   "outputs": [],
   "source": [
    "detection_graph = tf.Graph() #tf.Graph()实例化了一个类：tensorflow中用于计算的数据流图\n",
    "with detection_graph.as_default():\n",
    "    old_graph_def = tf.GraphDef()\n",
    "    with tf.gfile.GFile(PATH_TO_CKPT,'rb') as fid:\n",
    "        serialized_graph = fid.read()\n",
    "        old_graph_def.ParseFromString(serialized_graph) #将模型解析到计算图中\n",
    "        tf.import_graph_def(od_graph_def,name='') #将模型导入计算图中"
   ]
  },
  {
   "cell_type": "markdown",
   "metadata": {},
   "source": [
    "## 下载label map"
   ]
  },
  {
   "cell_type": "code",
   "execution_count": null,
   "metadata": {},
   "outputs": [],
   "source": [
    "label_map = label_map_util.load_labelmap(PATH_TO_LABELS)\n",
    "categories = label_map_util.convert_label_map_to_categories(label_map,max_num_classes=NUM_CLASSES,use_display_name=True)\n",
    "category_index = label_map_util.create_category_index(categories)"
   ]
  },
  {
   "cell_type": "markdown",
   "metadata": {},
   "source": [
    "## Helper code"
   ]
  },
  {
   "cell_type": "code",
   "execution_count": null,
   "metadata": {},
   "outputs": [],
   "source": [
    "def load_image_into_numpy_array(image):\n",
    "    (im_width,im_height) = image.size\n",
    "    return np.array(image.getdata()).reshape((im_height,im_width,3)).astype(np.uint8)"
   ]
  },
  {
   "cell_type": "markdown",
   "metadata": {},
   "source": [
    "## Detection"
   ]
  },
  {
   "cell_type": "code",
   "execution_count": null,
   "metadata": {},
   "outputs": [],
   "source": [
    "PATH_TO_TEST_IMAGES_DIR = 'test_images'\n",
    "TEST_iMAGE_PATHS = [os.path.join(PATH_TO_TEST_IMAGES_DIR,'image{}.jpg'.format(i)) for i in range(1,3)]\n",
    "IMAGE_SIZE = (12,8) #output image size"
   ]
  },
  {
   "cell_type": "code",
   "execution_count": null,
   "metadata": {},
   "outputs": [],
   "source": [
    "with detection_graph.as_default():\n",
    "    with tf.Session(graph=detection_graph) as sess:\n",
    "        image_tensor = detection_graph.get_tensor_by_name('image_tensor:0') #需要Input，input为image \n",
    "        detection_boxes = detection_graph.get_tensor_by_name('detection_boxes:0')#输出该卷积层的output:检测框坐标\n",
    "        detection_scores = detection_graph.get_tensor_by_name('detection_scores:0')# 表示每个检测结果的confidence\n",
    "        detection_classes = detection_graph.get_tensor_by_name('detection_classes:0')# 表示每个框对应的类别\n",
    "        num_detections = detection_graph.get_tensor_by_name('num_detections:0')# 表示检测框的个数\n",
    "        for image_path in TEST_IMAGE_PATHS:\n",
    "            image = Image.open(image_path)\n",
    "            image_np = load_image_into_numpy_array(image)\n",
    "            image_np_expanded = np.expand_dims(image_np,axis=0)\n",
    "            (boxes,scores,classes,num) = sess.run([detection_boxes,detection_scores,detection_classes,num_detections],feed_dict = {image_tensor:image_np_expanded})#用sess.run()进行计算\n",
    "            #对得到的检测结果进行可视化\n",
    "            vis_util.visualize_boxes_and_labels_on_image_array(image_np,np.squeeze(boxes),np.squeeze(classes).astype(np.int32),np.squeeze(scores),category_index,use_normalized_coordinates=True,line_thickness=8)#np.squeeze()删掉单维数组\n",
    "            plt.figure(figsize=IMAGE_SIZE) # 画图之前首先设置figure对象，此函数相当于设置一块自定义大小的画布，使得后面的图形输出在这块规定了大小的画布上，其中参数figsize设置画布大小\n",
    "            plt.imshow(image_np)"
   ]
  }
 ],
 "metadata": {
  "kernelspec": {
   "display_name": "Python 3",
   "language": "python",
   "name": "python3"
  },
  "language_info": {
   "codemirror_mode": {
    "name": "ipython",
    "version": 3
   },
   "file_extension": ".py",
   "mimetype": "text/x-python",
   "name": "python",
   "nbconvert_exporter": "python",
   "pygments_lexer": "ipython3",
   "version": "3.6.5"
  }
 },
 "nbformat": 4,
 "nbformat_minor": 2
}
